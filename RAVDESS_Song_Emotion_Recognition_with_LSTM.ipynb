In [1]:
import glob
import os
import librosa
import numpy as np
from sklearn.model_selection import train_test_split
import tensorflow as tf
In [2]:
!git clone https://github.com/bagustris/ravdess_song.git
Cloning into 'ravdess_song'...
remote: Enumerating objects: 1147, done.
remote: Counting objects: 100% (90/90), done.
remote: Compressing objects: 100% (78/78), done.
remote: Total 1147 (delta 49), reused 32 (delta 12), pack-reused 1057
Receiving objects: 100% (1147/1147), 232.30 MiB | 25.09 MiB/s, done.
Resolving deltas: 100% (53/53), done.
Checking out files: 100% (1030/1030), done.
In [3]:
cd ravdess_song/
/content/ravdess_song
In [4]:
# assign hsf to X, lab to y; reshape X for LSTM
X = np.load('data/x.npy', allow_pickle=True)
y = np.load('data/y.npy', allow_pickle=True)
In [5]:
# reshape x untuk lstm
X = X.reshape((X.shape[0], 1, X.shape[1]))
In [6]:
# split into train and test
x_train, x_test, y_train, y_test = train_test_split(X, y, test_size=0.1)
In [7]:
# functio to build LSTM model
def model_lstm():
    model = tf.keras.models.Sequential()
    model.add(tf.keras.layers.BatchNormalization(axis=-1,
              input_shape=(x_train.shape[1], x_train.shape[2])))
    model.add(tf.keras.layers.LSTM(256, return_sequences=True))
    model.add(tf.keras.layers.LSTM(256, return_sequences=True))
    model.add(tf.keras.layers.LSTM(256, return_sequences=True))
    model.add(tf.keras.layers.Flatten())
    model.add(tf.keras.layers.Dropout(0.4))
    model.add(tf.keras.layers.Dense(6, activation='softmax'))

    # compile model: set loss, optimizer, metric
    model.compile(loss=tf.keras.losses.SparseCategoricalCrossentropy(),
                  optimizer=tf.keras.optimizers.Adam(),
                  metrics=['accuracy'])
    return model
In [8]:
# create the model
model = model_lstm()
print(model.summary())
Model: "sequential"
_________________________________________________________________
Layer (type)                 Output Shape              Param #   
=================================================================
batch_normalization (BatchNo (None, 1, 386)            1544      
_________________________________________________________________
lstm (LSTM)                  (None, 1, 256)            658432    
_________________________________________________________________
lstm_1 (LSTM)                (None, 1, 256)            525312    
_________________________________________________________________
lstm_2 (LSTM)                (None, 1, 256)            525312    
_________________________________________________________________
flatten (Flatten)            (None, 256)               0         
_________________________________________________________________
dropout (Dropout)            (None, 256)               0         
_________________________________________________________________
dense (Dense)                (None, 6)                 1542      
=================================================================
Total params: 1,712,142
Trainable params: 1,711,370
Non-trainable params: 772
_________________________________________________________________
None
In [9]:
# train the Dense model
hist = model.fit(x_train, y_train, epochs=100, shuffle=True, batch_size=16)
Epoch 1/100
57/57 [==============================] - 6s 21ms/step - loss: 1.4456 - accuracy: 0.4538
Epoch 2/100
57/57 [==============================] - 1s 20ms/step - loss: 0.6561 - accuracy: 0.7473
Epoch 3/100
57/57 [==============================] - 1s 20ms/step - loss: 0.4800 - accuracy: 0.8088
Epoch 4/100
57/57 [==============================] - 1s 20ms/step - loss: 0.3461 - accuracy: 0.8736
Epoch 5/100
57/57 [==============================] - 1s 20ms/step - loss: 0.3301 - accuracy: 0.8769
Epoch 6/100
57/57 [==============================] - 1s 20ms/step - loss: 0.2654 - accuracy: 0.8989
Epoch 7/100
57/57 [==============================] - 1s 21ms/step - loss: 0.2192 - accuracy: 0.9121
Epoch 8/100
57/57 [==============================] - 1s 20ms/step - loss: 0.2581 - accuracy: 0.9033
Epoch 9/100
57/57 [==============================] - 1s 21ms/step - loss: 0.1960 - accuracy: 0.9286
Epoch 10/100
57/57 [==============================] - 1s 20ms/step - loss: 0.1740 - accuracy: 0.9352
Epoch 11/100
57/57 [==============================] - 1s 20ms/step - loss: 0.1619 - accuracy: 0.9407
Epoch 12/100
57/57 [==============================] - 1s 20ms/step - loss: 0.1400 - accuracy: 0.9484
Epoch 13/100
57/57 [==============================] - 1s 21ms/step - loss: 0.1082 - accuracy: 0.9593
Epoch 14/100
57/57 [==============================] - 1s 20ms/step - loss: 0.0952 - accuracy: 0.9659
Epoch 15/100
57/57 [==============================] - 1s 20ms/step - loss: 0.0785 - accuracy: 0.9703
Epoch 16/100
57/57 [==============================] - 1s 20ms/step - loss: 0.1034 - accuracy: 0.9659
Epoch 17/100
57/57 [==============================] - 1s 20ms/step - loss: 0.0709 - accuracy: 0.9780
Epoch 18/100
57/57 [==============================] - 1s 20ms/step - loss: 0.0934 - accuracy: 0.9692
Epoch 19/100
57/57 [==============================] - 1s 20ms/step - loss: 0.0616 - accuracy: 0.9747
Epoch 20/100
57/57 [==============================] - 1s 20ms/step - loss: 0.0747 - accuracy: 0.9736
Epoch 21/100
57/57 [==============================] - 1s 20ms/step - loss: 0.0749 - accuracy: 0.9736
Epoch 22/100
57/57 [==============================] - 1s 21ms/step - loss: 0.0850 - accuracy: 0.9703
Epoch 23/100
57/57 [==============================] - 1s 20ms/step - loss: 0.0750 - accuracy: 0.9769
Epoch 24/100
57/57 [==============================] - 1s 21ms/step - loss: 0.0676 - accuracy: 0.9780
Epoch 25/100
57/57 [==============================] - 1s 20ms/step - loss: 0.0733 - accuracy: 0.9725
Epoch 26/100
57/57 [==============================] - 1s 21ms/step - loss: 0.1082 - accuracy: 0.9670
Epoch 27/100
57/57 [==============================] - 1s 21ms/step - loss: 0.0663 - accuracy: 0.9758
Epoch 28/100
57/57 [==============================] - 1s 20ms/step - loss: 0.0474 - accuracy: 0.9824
Epoch 29/100
57/57 [==============================] - 1s 20ms/step - loss: 0.0450 - accuracy: 0.9835
Epoch 30/100
57/57 [==============================] - 1s 21ms/step - loss: 0.0514 - accuracy: 0.9802
Epoch 31/100
57/57 [==============================] - 1s 21ms/step - loss: 0.0220 - accuracy: 0.9934
Epoch 32/100
57/57 [==============================] - 1s 21ms/step - loss: 0.0245 - accuracy: 0.9956
Epoch 33/100
57/57 [==============================] - 1s 20ms/step - loss: 0.0205 - accuracy: 0.9956
Epoch 34/100
57/57 [==============================] - 1s 20ms/step - loss: 0.0679 - accuracy: 0.9791
Epoch 35/100
57/57 [==============================] - 1s 21ms/step - loss: 0.0625 - accuracy: 0.9769
Epoch 36/100
57/57 [==============================] - 1s 21ms/step - loss: 0.0500 - accuracy: 0.9868
Epoch 37/100
57/57 [==============================] - 1s 21ms/step - loss: 0.0549 - accuracy: 0.9802
Epoch 38/100
57/57 [==============================] - 1s 20ms/step - loss: 0.0994 - accuracy: 0.9714
Epoch 39/100
57/57 [==============================] - 1s 20ms/step - loss: 0.0751 - accuracy: 0.9769
Epoch 40/100
57/57 [==============================] - 1s 21ms/step - loss: 0.0485 - accuracy: 0.9824
Epoch 41/100
57/57 [==============================] - 1s 21ms/step - loss: 0.0644 - accuracy: 0.9747
Epoch 42/100
57/57 [==============================] - 1s 21ms/step - loss: 0.0697 - accuracy: 0.9758
Epoch 43/100
57/57 [==============================] - 1s 20ms/step - loss: 0.0261 - accuracy: 0.9912
Epoch 44/100
57/57 [==============================] - 1s 20ms/step - loss: 0.0135 - accuracy: 0.9923
Epoch 45/100
57/57 [==============================] - 1s 21ms/step - loss: 0.0281 - accuracy: 0.9901
Epoch 46/100
57/57 [==============================] - 1s 21ms/step - loss: 0.0419 - accuracy: 0.9846
Epoch 47/100
57/57 [==============================] - 1s 21ms/step - loss: 0.0664 - accuracy: 0.9769
Epoch 48/100
57/57 [==============================] - 1s 20ms/step - loss: 0.0330 - accuracy: 0.9868
Epoch 49/100
57/57 [==============================] - 1s 21ms/step - loss: 0.0462 - accuracy: 0.9868
Epoch 50/100
57/57 [==============================] - 1s 20ms/step - loss: 0.0181 - accuracy: 0.9945
Epoch 51/100
57/57 [==============================] - 1s 21ms/step - loss: 0.0595 - accuracy: 0.9857
Epoch 52/100
57/57 [==============================] - 1s 21ms/step - loss: 0.0320 - accuracy: 0.9901
Epoch 53/100
57/57 [==============================] - 1s 20ms/step - loss: 0.0170 - accuracy: 0.9956
Epoch 54/100
57/57 [==============================] - 1s 21ms/step - loss: 0.0253 - accuracy: 0.9901
Epoch 55/100
57/57 [==============================] - 1s 21ms/step - loss: 0.0375 - accuracy: 0.9901
Epoch 56/100
57/57 [==============================] - 1s 21ms/step - loss: 0.0387 - accuracy: 0.9879
Epoch 57/100
57/57 [==============================] - 1s 20ms/step - loss: 0.0380 - accuracy: 0.9912
Epoch 58/100
57/57 [==============================] - 1s 21ms/step - loss: 0.0236 - accuracy: 0.9934
Epoch 59/100
57/57 [==============================] - 1s 21ms/step - loss: 0.0172 - accuracy: 0.9945
Epoch 60/100
57/57 [==============================] - 1s 20ms/step - loss: 0.0451 - accuracy: 0.9890
Epoch 61/100
57/57 [==============================] - 1s 21ms/step - loss: 0.0241 - accuracy: 0.9890
Epoch 62/100
57/57 [==============================] - 1s 21ms/step - loss: 0.0433 - accuracy: 0.9824
Epoch 63/100
57/57 [==============================] - 1s 21ms/step - loss: 0.0212 - accuracy: 0.9945
Epoch 64/100
57/57 [==============================] - 1s 21ms/step - loss: 0.0365 - accuracy: 0.9857
Epoch 65/100
57/57 [==============================] - 1s 21ms/step - loss: 0.0292 - accuracy: 0.9923
Epoch 66/100
57/57 [==============================] - 1s 21ms/step - loss: 0.0240 - accuracy: 0.9901
Epoch 67/100
57/57 [==============================] - 1s 21ms/step - loss: 0.0361 - accuracy: 0.9879
Epoch 68/100
57/57 [==============================] - 1s 21ms/step - loss: 0.0259 - accuracy: 0.9901
Epoch 69/100
57/57 [==============================] - 1s 20ms/step - loss: 0.0197 - accuracy: 0.9934
Epoch 70/100
57/57 [==============================] - 1s 21ms/step - loss: 0.0410 - accuracy: 0.9890
Epoch 71/100
57/57 [==============================] - 1s 21ms/step - loss: 0.0428 - accuracy: 0.9879
Epoch 72/100
57/57 [==============================] - 1s 21ms/step - loss: 0.0077 - accuracy: 0.9978
Epoch 73/100
57/57 [==============================] - 1s 20ms/step - loss: 0.0315 - accuracy: 0.9934
Epoch 74/100
57/57 [==============================] - 1s 21ms/step - loss: 0.0170 - accuracy: 0.9967
Epoch 75/100
57/57 [==============================] - 1s 21ms/step - loss: 0.0214 - accuracy: 0.9934
Epoch 76/100
57/57 [==============================] - 1s 21ms/step - loss: 0.0294 - accuracy: 0.9901
Epoch 77/100
57/57 [==============================] - 1s 22ms/step - loss: 0.0633 - accuracy: 0.9879
Epoch 78/100
57/57 [==============================] - 1s 21ms/step - loss: 0.0161 - accuracy: 0.9945
Epoch 79/100
57/57 [==============================] - 1s 21ms/step - loss: 0.0441 - accuracy: 0.9791
Epoch 80/100
57/57 [==============================] - 1s 20ms/step - loss: 0.0390 - accuracy: 0.9901
Epoch 81/100
57/57 [==============================] - 1s 20ms/step - loss: 0.0241 - accuracy: 0.9934
Epoch 82/100
57/57 [==============================] - 1s 20ms/step - loss: 0.0065 - accuracy: 0.9989
Epoch 83/100
57/57 [==============================] - 1s 21ms/step - loss: 0.0246 - accuracy: 0.9923
Epoch 84/100
57/57 [==============================] - 1s 21ms/step - loss: 0.0331 - accuracy: 0.9890
Epoch 85/100
57/57 [==============================] - 1s 21ms/step - loss: 0.0330 - accuracy: 0.9879
Epoch 86/100
57/57 [==============================] - 1s 20ms/step - loss: 0.0207 - accuracy: 0.9934
Epoch 87/100
57/57 [==============================] - 1s 21ms/step - loss: 0.0224 - accuracy: 0.9934
Epoch 88/100
57/57 [==============================] - 1s 21ms/step - loss: 0.0210 - accuracy: 0.9901
Epoch 89/100
57/57 [==============================] - 1s 21ms/step - loss: 0.0325 - accuracy: 0.9912
Epoch 90/100
57/57 [==============================] - 1s 20ms/step - loss: 0.0232 - accuracy: 0.9945
Epoch 91/100
57/57 [==============================] - 1s 20ms/step - loss: 0.0212 - accuracy: 0.9912
Epoch 92/100
57/57 [==============================] - 1s 21ms/step - loss: 0.0437 - accuracy: 0.9868
Epoch 93/100
57/57 [==============================] - 1s 20ms/step - loss: 0.0259 - accuracy: 0.9923
Epoch 94/100
57/57 [==============================] - 1s 21ms/step - loss: 0.0115 - accuracy: 0.9956
Epoch 95/100
57/57 [==============================] - 1s 21ms/step - loss: 0.0162 - accuracy: 0.9934
Epoch 96/100
57/57 [==============================] - 1s 21ms/step - loss: 0.0328 - accuracy: 0.9901
Epoch 97/100
57/57 [==============================] - 1s 21ms/step - loss: 0.0129 - accuracy: 0.9967
Epoch 98/100
57/57 [==============================] - 1s 21ms/step - loss: 0.0082 - accuracy: 0.9967
Epoch 99/100
57/57 [==============================] - 1s 20ms/step - loss: 0.0134 - accuracy: 0.9945
Epoch 100/100
57/57 [==============================] - 1s 21ms/step - loss: 0.0058 - accuracy: 0.9989
In [10]:
evaluate = model.evaluate(x_test, y_test, batch_size=16)
print("Loss: ", evaluate[0], "--> Accuracy: ", evaluate[1])
7/7 [==============================] - 1s 5ms/step - loss: 0.2062 - accuracy: 0.9608
Loss:  0.20618675649166107 --> Accuracy:  0.9607843160629272
In [ ]:
